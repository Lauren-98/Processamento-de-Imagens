{
  "nbformat": 4,
  "nbformat_minor": 0,
  "metadata": {
    "colab": {
      "provenance": []
    },
    "kernelspec": {
      "name": "python3",
      "display_name": "Python 3"
    },
    "language_info": {
      "name": "python"
    }
  },
  "cells": [
    {
      "cell_type": "code",
      "source": [
        "import numpy as np\n",
        "import cv2\n",
        "import matplotlib.pyplot as plt"
      ],
      "metadata": {
        "id": "B2RqdWDsFcWG"
      },
      "execution_count": 17,
      "outputs": []
    },
    {
      "cell_type": "code",
      "source": [
        "matriz_original = np.array([[10, 10, 10, 10],\n",
        "                            [10, 10, 10, 10],\n",
        "                            [100, 100, 100, 100],\n",
        "                            [10, 10, 10, 10]])\n",
        "\n",
        "# 0 padding para transformar em uma matriz 6x6\n",
        "matriz_0p = np.pad(matriz_original, ((1, 1), (1, 1)), mode='constant')\n",
        "\n",
        "print(\"Matriz Original:\")\n",
        "print(matriz_original)\n",
        "\n",
        "print(\"\\nMatriz com Zero Padding:\")\n",
        "print(matriz_0p)"
      ],
      "metadata": {
        "colab": {
          "base_uri": "https://localhost:8080/"
        },
        "id": "G71KqZcLFgPd",
        "outputId": "6f64ced5-daac-4de9-b297-643f7670a5e0"
      },
      "execution_count": 20,
      "outputs": [
        {
          "output_type": "stream",
          "name": "stdout",
          "text": [
            "Matriz Original:\n",
            "[[ 10  10  10  10]\n",
            " [ 10  10  10  10]\n",
            " [100 100 100 100]\n",
            " [ 10  10  10  10]]\n",
            "\n",
            "Matriz com Zero Padding:\n",
            "[[  0   0   0   0   0   0]\n",
            " [  0  10  10  10  10   0]\n",
            " [  0  10  10  10  10   0]\n",
            " [  0 100 100 100 100   0]\n",
            " [  0  10  10  10  10   0]\n",
            " [  0   0   0   0   0   0]]\n"
          ]
        }
      ]
    },
    {
      "cell_type": "code",
      "source": [
        "filtro = np.array([[1, 0, -1],\n",
        "                   [2, 0, -2],\n",
        "                   [1, 0, -1]])"
      ],
      "metadata": {
        "id": "gXKdAqfAFy62"
      },
      "execution_count": 22,
      "outputs": []
    },
    {
      "cell_type": "code",
      "source": [
        "# multiplicando a matriz pelo filtro\n",
        "\n",
        "resultado = cv2.filter2D(matriz_0p.astype(np.float32), -1, filtro)\n",
        "print(resultado)"
      ],
      "metadata": {
        "colab": {
          "base_uri": "https://localhost:8080/"
        },
        "id": "j67g2k8wG54f",
        "outputId": "4870eee0-4181-456f-dafd-4e42b5734f36"
      },
      "execution_count": 23,
      "outputs": [
        {
          "output_type": "stream",
          "name": "stdout",
          "text": [
            "[[   0.  -20.    0.    0.   20.    0.]\n",
            " [   0.  -30.    0.    0.   30.    0.]\n",
            " [   0. -130.    0.    0.  130.    0.]\n",
            " [   0. -220.    0.    0.  220.    0.]\n",
            " [   0. -120.    0.    0.  120.    0.]\n",
            " [   0.  -20.    0.    0.   20.    0.]]\n"
          ]
        }
      ]
    },
    {
      "cell_type": "code",
      "source": [
        "# \"recortando\" o padding\n",
        "\n",
        "linha, coluna = 4, 4\n",
        "matriz_final = resultado[:linha, :coluna]\n",
        "print(matriz_final)"
      ],
      "metadata": {
        "colab": {
          "base_uri": "https://localhost:8080/"
        },
        "id": "cipYNAtWYfZm",
        "outputId": "f8d243de-04e9-4c9d-834a-839127fa50da"
      },
      "execution_count": 24,
      "outputs": [
        {
          "output_type": "stream",
          "name": "stdout",
          "text": [
            "[[   0.  -20.    0.    0.]\n",
            " [   0.  -30.    0.    0.]\n",
            " [   0. -130.    0.    0.]\n",
            " [   0. -220.    0.    0.]]\n"
          ]
        }
      ]
    },
    {
      "cell_type": "code",
      "source": [
        "# mostrando a imagem com o filtro\n",
        "\n",
        "imagem_filtrada = cv2.filter2D(matriz_0p.astype(np.float32), cv2.CV_32F, filtro)\n",
        "\n",
        "plt.imshow(imagem_filtrada, cmap='gray')\n",
        "plt.title('Imagem filtrada com o filtro passa-alta')\n",
        "plt.axis('off')\n",
        "plt.show()"
      ],
      "metadata": {
        "colab": {
          "base_uri": "https://localhost:8080/",
          "height": 428
        },
        "id": "Frer-97IGBCV",
        "outputId": "dc5d107d-c746-4bfa-e91e-389d77f83fdd"
      },
      "execution_count": 29,
      "outputs": [
        {
          "output_type": "display_data",
          "data": {
            "text/plain": [
              "<Figure size 640x480 with 1 Axes>"
            ],
            "image/png": "[encoded data removed]"
          },
          "metadata": {}
        }
      ]
    },
    {
      "cell_type": "code",
      "source": [],
      "metadata": {
        "id": "GHr_YrKrbNxR"
      },
      "execution_count": null,
      "outputs": []
    }
  ]
}